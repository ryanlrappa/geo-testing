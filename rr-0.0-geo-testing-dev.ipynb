{
 "cells": [
  {
   "cell_type": "code",
   "execution_count": 1,
   "id": "4a2074d1-e930-48ac-a481-781f75e757b0",
   "metadata": {},
   "outputs": [],
   "source": [
    "%load_ext autoreload\n",
    "%autoreload 2"
   ]
  },
  {
   "cell_type": "code",
   "execution_count": 17,
   "id": "62695a2f-1756-42b6-9fce-66e72f239066",
   "metadata": {},
   "outputs": [],
   "source": [
    "import pandas as pd\n",
    "import rpy2.robjects as robjects\n",
    "from rpy2.robjects.packages import importr\n",
    "from rpy2.robjects import pandas2ri\n",
    "from rpy2.robjects.conversion import localconverter\n",
    "# Enable automatic conversion between Pandas dataframes and R data frames\n",
    "# pandas2ri.activate()"
   ]
  },
  {
   "cell_type": "code",
   "execution_count": 3,
   "id": "dd4c5bae-5b16-46bb-9406-b6dbc5c432ce",
   "metadata": {},
   "outputs": [],
   "source": [
    "# Initialize R instance\n",
    "r = robjects.r"
   ]
  },
  {
   "cell_type": "code",
   "execution_count": 4,
   "id": "60c482eb-661c-4bbb-9d3b-987b8623359f",
   "metadata": {},
   "outputs": [
    {
     "name": "stderr",
     "output_type": "stream",
     "text": [
      "R[write to console]: Loading required package: GeoLift\n",
      "\n"
     ]
    }
   ],
   "source": [
    "# Install the GeoLift package\n",
    "r('''\n",
    "if (!require(\"GeoLift\")) {\n",
    "    install.packages(\"GeoLift\", repos=\"http://cran.us.r-project.org\")\n",
    "    library(GeoLift)\n",
    "}\n",
    "''')"
   ]
  },
  {
   "cell_type": "code",
   "execution_count": 25,
   "id": "9fd811aa-b82e-4e3c-bdc8-7112bc7223ae",
   "metadata": {},
   "outputs": [],
   "source": [
    "r('''\n",
    "data(GeoLift_PreTest)\n",
    "''')"
   ]
  },
  {
   "cell_type": "code",
   "execution_count": 26,
   "id": "ddfa7498-bacc-4139-abbd-ec08c85cbf57",
   "metadata": {},
   "outputs": [
    {
     "name": "stderr",
     "output_type": "stream",
     "text": [
      "R[write to console]: ##################################\n",
      "#####       Summary       #####\n",
      "##################################\n",
      "\n",
      "* Raw Number of Locations: 40\n",
      "* Time Periods: 90\n",
      "* Final Number of Locations (Complete): 40\n",
      "\n"
     ]
    }
   ],
   "source": [
    "r('''\n",
    "GeoTestData_PreTest <- GeoDataRead(data = GeoLift_PreTest,\n",
    "                                        date_id = \"date\",\n",
    "                                        location_id = \"location\",\n",
    "                                        Y_id = \"Y\",\n",
    "                                        X = c(), #empty list as we have no covariates\n",
    "                                        format = \"yyyy-mm-dd\",\n",
    "                                        summary = TRUE)\n",
    "''')"
   ]
  },
  {
   "cell_type": "code",
   "execution_count": 27,
   "id": "9723243d-1fae-4394-af45-79d6328f6069",
   "metadata": {},
   "outputs": [],
   "source": [
    "# # Step 1: Load Data\n",
    "# with localconverter(robjects.default_converter + pandas2ri.converter):\n",
    "#     geo_data = robjects.conversion.py2rpy(pd.read_csv('gt-sample.csv'))\n",
    "\n",
    "#     r.assign('geo_data', geo_data)"
   ]
  },
  {
   "cell_type": "code",
   "execution_count": 28,
   "id": "df7012be-d539-4512-b4fd-89cb0f672e3e",
   "metadata": {},
   "outputs": [],
   "source": [
    "# r('''\n",
    "# GeoTestData_PreTest <- GeoDataRead(data = geo_data,\n",
    "#                                         date_id = \"date\",\n",
    "#                                         location_id = \"location\",\n",
    "#                                         Y_id = \"subs\",\n",
    "#                                         X = c(), #empty list as we have no covariates\n",
    "#                                         format = \"yyyy-mm-dd\",\n",
    "#                                         summary = TRUE)\n",
    "# ''')"
   ]
  },
  {
   "cell_type": "code",
   "execution_count": null,
   "id": "abfc3120-a339-4312-89c8-91587ea071e1",
   "metadata": {},
   "outputs": [],
   "source": [
    "# Step 2: Pre-Analysis\n",
    "# Replace this with the appropriate pre-analysis code from the walkthrough\n",
    "r('''\n",
    "# Your pre-analysis code here\n",
    "''')\n",
    "\n",
    "# Step 3: Model Diagnostics\n",
    "# Replace with model diagnostic code from the walkthrough\n",
    "r('''\n",
    "# Your model diagnostics code here\n",
    "''')\n",
    "\n",
    "# Step 4: Post-Analysis\n",
    "# Replace with post-analysis code from the walkthrough\n",
    "r('''\n",
    "# Your post-analysis code here\n",
    "''')\n",
    "\n",
    "# Step 5: View Results\n",
    "# Replace with the code to view results from the walkthrough\n",
    "r('''\n",
    "# Your code to view results here\n",
    "''')\n"
   ]
  },
  {
   "cell_type": "code",
   "execution_count": null,
   "id": "744dbc3e-1b7e-4564-a7da-2ddb5860c375",
   "metadata": {},
   "outputs": [],
   "source": []
  },
  {
   "cell_type": "code",
   "execution_count": null,
   "id": "2ab83cff-5b8a-4af7-8d39-8300b52af696",
   "metadata": {},
   "outputs": [],
   "source": []
  },
  {
   "cell_type": "code",
   "execution_count": null,
   "id": "94564256-4979-4d99-98f1-a57997517012",
   "metadata": {},
   "outputs": [],
   "source": []
  }
 ],
 "metadata": {
  "kernelspec": {
   "display_name": "Python 3",
   "language": "python",
   "name": "python3"
  },
  "language_info": {
   "codemirror_mode": {
    "name": "ipython",
    "version": 3
   },
   "file_extension": ".py",
   "mimetype": "text/x-python",
   "name": "python",
   "nbconvert_exporter": "python",
   "pygments_lexer": "ipython3",
   "version": "3.8.8"
  }
 },
 "nbformat": 4,
 "nbformat_minor": 5
}
